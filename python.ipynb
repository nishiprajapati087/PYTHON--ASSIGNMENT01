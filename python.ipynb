{
  "nbformat": 4,
  "nbformat_minor": 0,
  "metadata": {
    "colab": {
      "provenance": []
    },
    "kernelspec": {
      "name": "python3",
      "display_name": "Python 3"
    },
    "language_info": {
      "name": "python"
    }
  },
  "cells": [
    {
      "cell_type": "markdown",
      "source": [
        "#Python Basics Questions"
      ],
      "metadata": {
        "id": "kpdDq95xVUQM"
      }
    },
    {
      "cell_type": "markdown",
      "source": [
        "1. What is Python, and why is it popular?\n",
        "\n",
        "   -> Python is a high-level, versatile programming language known for its readability and ease of use. It is popular for its user-friendly syntax, versatility, and a strong, supportive community.\n",
        "\n",
        "2. What is an interpreter in Python?       \n",
        "\n",
        "   -> An interpreter is a program that executes Python code directly, line by line, without needing to compile the entire program into machine code first.\n",
        "3. What are pre-defined keywords in Python?\n",
        "\n",
        "   -> Keywords are case-sensitive and cannot be redefined. They are reserved words in Python that have special meanings and cannot be used as identifiers.\n",
        "   For examples:- if, else, while, for, def, class, import, try, except, return, True, False etc.\n",
        "4. Can keywords be used as variable names?   \n",
        "\n",
        "   -> No, keywords cannot be used as variable names in Python. Keywords are reserved words that have predefined meanings and functions within the Python language.\n",
        "\n",
        "5. What is mutability in Python?\n",
        "\n",
        "   ->  Mutability refers to whether an object's state or content can be changed after it has been created.\n",
        "\n",
        "6. Why are lists mutable, but tuples are immutable?\n",
        "\n",
        "   -> ⏺ Lists are mutable :\n",
        "\n",
        "        ◼ we can change, add, or remove elements after creation.\n",
        "        ◼ Lists are meant for dynamic data.\n",
        "\n",
        "      ⏺ Tuples are immutable :\n",
        "\n",
        "        ◼ Ones created, their contents can't be changed.\n",
        "        ◼ Tuples are meant for fixed, unchanged data (safer, faster, can be used as dictionary keys).                                               \n",
        "\n",
        "7. What is the difference between “==” and “is” operators in Python?          \n",
        "\n",
        "   -> \"==\" (Equality Operator):\n",
        "        ◾ Compares the values of two objects.\n",
        "        ◾ Evaluates whether the content or state of the objects is the same.\n",
        "\n",
        "      \"is\" (Identity Operator):\n",
        "       ◾ Compares the memory addresses of two objects.\n",
        "       ◾ Evaluates whether two variables refer to the exact same object in memory.\n",
        "\n",
        "8. What are logical operators in Python?\n",
        "\n",
        "   -> Logical operators in Python, namely and, or, and not, are used to combine or modify boolean expressions. They return True or False based on the logic applied.\n",
        "\n",
        "9. What is type casting in Python?\n",
        "\n",
        "  -> Type casting, also referred to as type conversion, is the process of changing one data type to another in Python.\n",
        "\n",
        "10. What is the difference between implicit and explicit type casting?\n",
        "\n",
        "   ->  Implicit type casting is when Python automatically converts data types during operations, while explicit type casting is when you manually convert a data type using built-in functions like int(), float(), or str().\n",
        "\n",
        "11. What is the purpose of conditional statements in Python?\n",
        "\n",
        "   -> Conditional statements allow programs to make decisions and execute different blocks of code based on whether certain conditions are true or false.  \n",
        "\n",
        "12. How does the elif statement work?\n",
        "\n",
        "  -> The elif statement in Python, short for \"else if,\" provides a way to check multiple conditions sequentially within a single conditional block.\n",
        "\n",
        "13. What is the difference between for and while loops?\n",
        "\n",
        "   -> for loop: Used when you know how many times to loop or are looping through a sequence (like a list or range).\n",
        "     Examples:for i in range(5):\n",
        "\n",
        "     for loop: Used when you don't know how many times to loop and want to continue while a condotion is true.\n",
        "      Examples: while i < 5:\n",
        "\n",
        "14. Describe a scenario where a while loop is more suitable than a for loop.\n",
        "\n",
        "   -> A while loop is best used when you don't know the number of iterations in advance."
      ],
      "metadata": {
        "id": "MhlV2et8VfMH"
      }
    },
    {
      "cell_type": "markdown",
      "source": [
        " # Practical Questions"
      ],
      "metadata": {
        "id": "gLPm6dJrxTkv"
      }
    },
    {
      "cell_type": "markdown",
      "source": [
        " 1. Write a Python program to print \"Hello, World!\""
      ],
      "metadata": {
        "id": "UaJRNia-xqe5"
      }
    },
    {
      "cell_type": "code",
      "execution_count": 1,
      "metadata": {
        "id": "H_nxRRfwU1ad",
        "colab": {
          "base_uri": "https://localhost:8080/"
        },
        "outputId": "568f0269-3da4-4197-bd8f-8d75821a3868"
      },
      "outputs": [
        {
          "output_type": "stream",
          "name": "stdout",
          "text": [
            "Hello, World!\n"
          ]
        }
      ],
      "source": [
        "print(\"Hello, World!\")"
      ]
    },
    {
      "cell_type": "markdown",
      "source": [
        "2. Write a Python program that displays your name and age."
      ],
      "metadata": {
        "id": "ifZYGS8Lzc6J"
      }
    },
    {
      "cell_type": "code",
      "source": [
        "name = (\"Nishi prajapati\")\n",
        "age= 18\n",
        "print(f\"My name is {name} and I am {age} years old.\")"
      ],
      "metadata": {
        "colab": {
          "base_uri": "https://localhost:8080/"
        },
        "id": "ALKR7Ke0zj_Z",
        "outputId": "20bd318a-4b19-4369-fbf0-641a3a2b4513"
      },
      "execution_count": null,
      "outputs": [
        {
          "output_type": "stream",
          "name": "stdout",
          "text": [
            "My name is Nishi prajapati and I am 18 years old.\n"
          ]
        }
      ]
    },
    {
      "cell_type": "markdown",
      "source": [
        "3. Write code to print all the pre-defined keywords in Python using the keyword library."
      ],
      "metadata": {
        "id": "bqTIjEo95OHF"
      }
    },
    {
      "cell_type": "code",
      "source": [
        "import keyword\n",
        "print(keyword.kwlist)"
      ],
      "metadata": {
        "colab": {
          "base_uri": "https://localhost:8080/"
        },
        "id": "92CXK1mb_PDX",
        "outputId": "e617691b-a99b-4312-9464-900180bdc634"
      },
      "execution_count": null,
      "outputs": [
        {
          "output_type": "stream",
          "name": "stdout",
          "text": [
            "['False', 'None', 'True', 'and', 'as', 'assert', 'async', 'await', 'break', 'class', 'continue', 'def', 'del', 'elif', 'else', 'except', 'finally', 'for', 'from', 'global', 'if', 'import', 'in', 'is', 'lambda', 'nonlocal', 'not', 'or', 'pass', 'raise', 'return', 'try', 'while', 'with', 'yield']\n"
          ]
        }
      ]
    },
    {
      "cell_type": "markdown",
      "source": [
        "4. Write a program that checks if a given word is a Python keyword."
      ],
      "metadata": {
        "id": "h8wdecJA_cEA"
      }
    },
    {
      "cell_type": "code",
      "source": [
        "import keyword\n",
        "\n",
        "def check_if_keyword(word):\n",
        "   return keyword.iskeyword(word)\n",
        "\n",
        "word_to_check = input(\"Enter a word: \")\n",
        "\n",
        "if check_if_keyword(word_to_check):\n",
        "  print(f\"'{word_to_check}' is a Python keyword.\")\n",
        "else:\n",
        "  print(f\"'{word_to_check}' is not a Python keyword.\")"
      ],
      "metadata": {
        "colab": {
          "base_uri": "https://localhost:8080/"
        },
        "id": "VkWDdSe3Fqdk",
        "outputId": "95ac7565-6792-4971-af7a-a81a98b1548c"
      },
      "execution_count": null,
      "outputs": [
        {
          "output_type": "stream",
          "name": "stdout",
          "text": [
            "Enter a word: multiply\n",
            "'multiply' is not a Python keyword.\n"
          ]
        }
      ]
    },
    {
      "cell_type": "markdown",
      "source": [
        "5. Create a list and tuple in Python, and demonstrate how attempting to change an element works differently for each."
      ],
      "metadata": {
        "id": "k7Sqp3T2Jfes"
      }
    },
    {
      "cell_type": "code",
      "source": [
        "my_list = [1,2,3]\n",
        "print(\"Original list:\",my_list)\n",
        "my_list[1]=20\n",
        "print(\"Modified list:\",my_list)\n",
        "my_tuple = (1,2,3)\n",
        "print(\"Original tuple:\",my_tuple)\n",
        "try:\n",
        "  my_tuple[1] = 20\n",
        "except TypeError as e:\n",
        "  print(\"Error when trying to modify tuple:\",e)"
      ],
      "metadata": {
        "colab": {
          "base_uri": "https://localhost:8080/"
        },
        "id": "mB8IdS-nJugO",
        "outputId": "81f651fe-0cf6-42ad-f2ea-ea0711855394"
      },
      "execution_count": null,
      "outputs": [
        {
          "output_type": "stream",
          "name": "stdout",
          "text": [
            "Original list: [1, 2, 3]\n",
            "Modified list: [1, 20, 3]\n",
            "Original tuple: (1, 2, 3)\n",
            "Error when trying to modify tuple: 'tuple' object does not support item assignment\n"
          ]
        }
      ]
    },
    {
      "cell_type": "markdown",
      "source": [
        "6.  Write a function to demonstrate the behavior of mutable and immutable arguments."
      ],
      "metadata": {
        "id": "KKc4uGXFKz8D"
      }
    },
    {
      "cell_type": "code",
      "source": [
        "def modify_arguments(immutable_arg, mutable_arg):\n",
        "    immutable_arg += 1\n",
        "    print(\"Inside function (immutable):\", immutable_arg)\n",
        "    mutable_arg.append(4)\n",
        "    print(\"Inside function (mutable):\", mutable_arg)\n",
        "\n",
        "immutable_value = 10\n",
        "mutable_value = [1, 2, 3]\n",
        "\n",
        "modify_arguments(immutable_value, mutable_value)\n",
        "\n",
        "print(\"After function call (immutable):\", immutable_value)\n",
        "print(\"After function call (mutable):\", mutable_value)"
      ],
      "metadata": {
        "colab": {
          "base_uri": "https://localhost:8080/"
        },
        "id": "U4vLQNmcK9qB",
        "outputId": "9cb16a41-2c20-4e63-fdcd-9d1fd4b01788"
      },
      "execution_count": null,
      "outputs": [
        {
          "output_type": "stream",
          "name": "stdout",
          "text": [
            "Inside function (immutable): 11\n",
            "Inside function (mutable): [1, 2, 3, 4]\n",
            "After function call (immutable): 10\n",
            "After function call (mutable): [1, 2, 3, 4]\n"
          ]
        }
      ]
    },
    {
      "cell_type": "markdown",
      "source": [
        "7.  Write a program that performs basic arithmetic operations on two user-input numbers."
      ],
      "metadata": {
        "id": "JUCw3SOyK-lw"
      }
    },
    {
      "cell_type": "code",
      "source": [
        "num1 = float(input(\"Enter the first number: \"))\n",
        "num2 = float(input(\"Enter the second number: \"))\n",
        "\n",
        "addition = num1 + num2\n",
        "subtraction = num1 - num2\n",
        "multiplication = num1 * num2\n",
        "\n",
        "if num2 != 0:\n",
        "    division = num1 / num2\n",
        "else:\n",
        "    division = \"Undefined (cannot divide by zero)\"\n",
        "\n",
        "print(\"\\nResults:\")\n",
        "print(f\"Addition: {num1} + {num2} = {addition}\")\n",
        "print(f\"Subtraction: {num1} - {num2} = {subtraction}\")\n",
        "print(f\"Multiplication: {num1} * {num2} = {multiplication}\")\n",
        "print(f\"Division: {num1} / {num2} = {division}\")"
      ],
      "metadata": {
        "colab": {
          "base_uri": "https://localhost:8080/"
        },
        "id": "_4plqXsTLEV5",
        "outputId": "8af09f00-6d73-4cef-8cce-254f28e425fe"
      },
      "execution_count": null,
      "outputs": [
        {
          "output_type": "stream",
          "name": "stdout",
          "text": [
            "Enter the first number: 45\n",
            "Enter the second number: 87\n",
            "\n",
            "Results:\n",
            "Addition: 45.0 + 87.0 = 132.0\n",
            "Subtraction: 45.0 - 87.0 = -42.0\n",
            "Multiplication: 45.0 * 87.0 = 3915.0\n",
            "Division: 45.0 / 87.0 = 0.5172413793103449\n"
          ]
        }
      ]
    },
    {
      "cell_type": "markdown",
      "source": [
        "8.  Write a program to demonstrate the use of logical operators."
      ],
      "metadata": {
        "id": "nv53VnS9LFBZ"
      }
    },
    {
      "cell_type": "code",
      "source": [
        "a = int(input(\"Enter the first number: \"))\n",
        "b = int(input(\"Enter the second number: \"))\n",
        "\n",
        "print(\"\\nLogical Operators Results:\")\n",
        "\n",
        "if a > 0 and b > 0:\n",
        "    print(\"Both numbers are positive (a > 0 and b > 0)\")\n",
        "\n",
        "if a > 0 or b > 0:\n",
        "    print(\"At least one number is positive (a > 0 or b > 0)\")\n",
        "\n",
        "print(f\"NOT (a > 0): {not (a > 0)}\")\n",
        "print(f\"NOT (b > 0): {not (b > 0)}\")"
      ],
      "metadata": {
        "colab": {
          "base_uri": "https://localhost:8080/"
        },
        "id": "ZPBmgRM1LNRM",
        "outputId": "b2ed14ba-cd0e-4f12-9db4-dd6bb8d23cb2"
      },
      "execution_count": null,
      "outputs": [
        {
          "output_type": "stream",
          "name": "stdout",
          "text": [
            "Enter the first number: 8\n",
            "Enter the second number: -8\n",
            "\n",
            "Logical Operators Results:\n",
            "At least one number is positive (a > 0 or b > 0)\n",
            "NOT (a > 0): False\n",
            "NOT (b > 0): True\n"
          ]
        }
      ]
    },
    {
      "cell_type": "markdown",
      "source": [
        "9.  Write a Python program to convert user input from string to integer, float, and boolean types."
      ],
      "metadata": {
        "id": "gB1AoH05LN-9"
      }
    },
    {
      "cell_type": "code",
      "source": [
        "user_input = input(\"Enter a value: \")\n",
        "\n",
        "# Integer conversion\n",
        "try:\n",
        "    print(\"Integer:\", int(user_input))\n",
        "except ValueError:\n",
        "    print(\"Invalid integer\")\n",
        "\n",
        "# Float conversion\n",
        "try:\n",
        "    print(\"Float:\", float(user_input))\n",
        "except ValueError:\n",
        "    print(\"Invalid float\")\n",
        "\n",
        "# Boolean conversion\n",
        "if user_input.strip().lower() == \"true\":\n",
        "    print(\"Boolean: True\")\n",
        "elif user_input.strip().lower() == \"false\":\n",
        "    print(\"Boolean: False\")\n",
        "else:\n",
        "    print(\"Boolean:\", bool(user_input))"
      ],
      "metadata": {
        "colab": {
          "base_uri": "https://localhost:8080/"
        },
        "id": "sjfzHL1gLXv5",
        "outputId": "cad5f739-ef5f-479e-81d4-80426d48a94c"
      },
      "execution_count": null,
      "outputs": [
        {
          "output_type": "stream",
          "name": "stdout",
          "text": [
            "Enter a value: 7\n",
            "Integer: 7\n",
            "Float: 7.0\n",
            "Boolean: True\n"
          ]
        }
      ]
    },
    {
      "cell_type": "markdown",
      "source": [
        "10. Write code to demonstrate type casting with list elements."
      ],
      "metadata": {
        "id": "nspbFgPnLYdL"
      }
    },
    {
      "cell_type": "code",
      "source": [
        "string_list = [\"1\", \"2\", \"3\"]\n",
        "\n",
        "int_list = [int(x) for x in string_list]\n",
        "\n",
        "float_list = [float(x) for x in string_list]\n",
        "\n",
        "str_list = [str(x) for x in int_list]\n",
        "\n",
        "print(\"Int:\", int_list)\n",
        "print(\"Float:\", float_list)\n",
        "print(\"String:\", str_list)"
      ],
      "metadata": {
        "colab": {
          "base_uri": "https://localhost:8080/"
        },
        "id": "AVrRgnOZLeqN",
        "outputId": "5b74ca1a-7176-47ee-fbb6-8ea9ed28bc1f"
      },
      "execution_count": null,
      "outputs": [
        {
          "output_type": "stream",
          "name": "stdout",
          "text": [
            "Int: [1, 2, 3]\n",
            "Float: [1.0, 2.0, 3.0]\n",
            "String: ['1', '2', '3']\n"
          ]
        }
      ]
    },
    {
      "cell_type": "markdown",
      "source": [
        "11.  Write a program that checks if a number is positive, negative, or zero."
      ],
      "metadata": {
        "id": "2pXVYAUsLgs0"
      }
    },
    {
      "cell_type": "code",
      "source": [
        "num = float(input(\"Enter a number: \"))\n",
        "if num > 0:\n",
        "   print(\"Positive number\")\n",
        "elif num == 0:\n",
        "   print(\"Zero\")\n",
        "else:\n",
        "   print(\"Negative number\")"
      ],
      "metadata": {
        "colab": {
          "base_uri": "https://localhost:8080/"
        },
        "id": "PIi8mAKMLnh-",
        "outputId": "e8a7a394-f473-4e02-cd72-2c7166e54a76"
      },
      "execution_count": null,
      "outputs": [
        {
          "output_type": "stream",
          "name": "stdout",
          "text": [
            "Enter a number: -8\n",
            "Negative number\n"
          ]
        }
      ]
    },
    {
      "cell_type": "markdown",
      "source": [
        "12. Write a for loop to print numbers from 1 to 10."
      ],
      "metadata": {
        "id": "ZyvH46o3LoPm"
      }
    },
    {
      "cell_type": "code",
      "source": [
        "for i in range(1,11):\n",
        " print(i)"
      ],
      "metadata": {
        "colab": {
          "base_uri": "https://localhost:8080/"
        },
        "id": "4FaJ9H9fLtdI",
        "outputId": "3fb639a1-9dff-4e07-80d8-68a8e7ef6b3d"
      },
      "execution_count": null,
      "outputs": [
        {
          "output_type": "stream",
          "name": "stdout",
          "text": [
            "1\n",
            "2\n",
            "3\n",
            "4\n",
            "5\n",
            "6\n",
            "7\n",
            "8\n",
            "9\n",
            "10\n"
          ]
        }
      ]
    },
    {
      "cell_type": "markdown",
      "source": [
        "13. Write a Python program to find the sum of all even numbers between 1 and 50."
      ],
      "metadata": {
        "id": "QtcJCLSeLvJp"
      }
    },
    {
      "cell_type": "code",
      "source": [
        "even_sum=0\n",
        "for i in range(1,51):\n",
        "  if i % 2==0:\n",
        "    even_sum +=i\n",
        "\n",
        "print(\"Sum of even numbers from 1 to 50 is:\",even_sum)"
      ],
      "metadata": {
        "colab": {
          "base_uri": "https://localhost:8080/"
        },
        "id": "rpmRuaUIL2F3",
        "outputId": "e3c4834e-f06c-48b3-ee34-b617c55cff1a"
      },
      "execution_count": 2,
      "outputs": [
        {
          "output_type": "stream",
          "name": "stdout",
          "text": [
            "Sum of even numbers from 1 to 50 is: 650\n"
          ]
        }
      ]
    },
    {
      "cell_type": "markdown",
      "source": [
        "14.  Write a program to reverse a string using a while loop."
      ],
      "metadata": {
        "id": "QvNA9q8_L3O3"
      }
    },
    {
      "cell_type": "code",
      "source": [
        "text = input(\"Enter a string: \")\n",
        "\n",
        "reversed_text = \"\"\n",
        "index = len(text) - 1\n",
        "\n",
        "while index >= 0:\n",
        "    reversed_text += text[index]\n",
        "    index -= 1\n",
        "\n",
        "print(\"Reversed string:\", reversed_text)"
      ],
      "metadata": {
        "colab": {
          "base_uri": "https://localhost:8080/"
        },
        "id": "oLURYb2AL9BH",
        "outputId": "805a98d6-504e-489c-d7f7-4ec64e1536e3"
      },
      "execution_count": null,
      "outputs": [
        {
          "output_type": "stream",
          "name": "stdout",
          "text": [
            "Enter a string: pwskills\n",
            "Reversed string: sllikswp\n"
          ]
        }
      ]
    },
    {
      "cell_type": "markdown",
      "source": [
        "15.  Write a Python program to calculate the factorial of a number provided by the user using a while loop."
      ],
      "metadata": {
        "id": "YG1ucPGZL-TP"
      }
    },
    {
      "cell_type": "code",
      "source": [
        "num = int(input(\"Enter a number: \"))\n",
        "\n",
        "factorial = 1\n",
        "i = 1\n",
        "\n",
        "if num < 0:\n",
        "    print(\"Factorial is not defined for negative numbers.\")\n",
        "else:\n",
        "    while i <= num:\n",
        "        factorial *= i\n",
        "        i += 1\n",
        "    print(f\"Factorial of {num} is: {factorial}\")"
      ],
      "metadata": {
        "colab": {
          "base_uri": "https://localhost:8080/"
        },
        "id": "voQbwCNGMDUH",
        "outputId": "27237d85-65c0-4300-b8b5-0cb32aebc371"
      },
      "execution_count": null,
      "outputs": [
        {
          "output_type": "stream",
          "name": "stdout",
          "text": [
            "Enter a number: 8\n",
            "Factorial of 8 is: 40320\n"
          ]
        }
      ]
    }
  ]
}
